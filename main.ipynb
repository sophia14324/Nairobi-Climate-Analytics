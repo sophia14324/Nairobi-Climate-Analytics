{
 "cells": [
  {
   "cell_type": "code",
   "execution_count": 2,
   "id": "cabb390d",
   "metadata": {},
   "outputs": [
    {
     "data": {
      "text/html": [
       "<div>\n",
       "<style scoped>\n",
       "    .dataframe tbody tr th:only-of-type {\n",
       "        vertical-align: middle;\n",
       "    }\n",
       "\n",
       "    .dataframe tbody tr th {\n",
       "        vertical-align: top;\n",
       "    }\n",
       "\n",
       "    .dataframe thead th {\n",
       "        text-align: right;\n",
       "    }\n",
       "</style>\n",
       "<table border=\"1\" class=\"dataframe\">\n",
       "  <thead>\n",
       "    <tr style=\"text-align: right;\">\n",
       "      <th></th>\n",
       "      <th>geometry</th>\n",
       "      <th>bbox_north</th>\n",
       "      <th>bbox_south</th>\n",
       "      <th>bbox_east</th>\n",
       "      <th>bbox_west</th>\n",
       "      <th>place_id</th>\n",
       "      <th>osm_type</th>\n",
       "      <th>osm_id</th>\n",
       "      <th>lat</th>\n",
       "      <th>lon</th>\n",
       "      <th>class</th>\n",
       "      <th>type</th>\n",
       "      <th>place_rank</th>\n",
       "      <th>importance</th>\n",
       "      <th>addresstype</th>\n",
       "      <th>name</th>\n",
       "      <th>display_name</th>\n",
       "    </tr>\n",
       "  </thead>\n",
       "  <tbody>\n",
       "    <tr>\n",
       "      <th>0</th>\n",
       "      <td>POLYGON ((36.66470 -1.32007, 36.67354 -1.32465...</td>\n",
       "      <td>-1.160675</td>\n",
       "      <td>-1.444882</td>\n",
       "      <td>37.104873</td>\n",
       "      <td>36.664702</td>\n",
       "      <td>32937354</td>\n",
       "      <td>relation</td>\n",
       "      <td>9185096</td>\n",
       "      <td>-1.302615</td>\n",
       "      <td>36.828842</td>\n",
       "      <td>place</td>\n",
       "      <td>city</td>\n",
       "      <td>16</td>\n",
       "      <td>0.667186</td>\n",
       "      <td>city</td>\n",
       "      <td>Nairobi</td>\n",
       "      <td>Nairobi, Nairobi County, Kenya</td>\n",
       "    </tr>\n",
       "  </tbody>\n",
       "</table>\n",
       "</div>"
      ],
      "text/plain": [
       "                                            geometry  bbox_north  bbox_south  \\\n",
       "0  POLYGON ((36.66470 -1.32007, 36.67354 -1.32465...   -1.160675   -1.444882   \n",
       "\n",
       "   bbox_east  bbox_west  place_id  osm_type   osm_id       lat        lon  \\\n",
       "0  37.104873  36.664702  32937354  relation  9185096 -1.302615  36.828842   \n",
       "\n",
       "   class  type  place_rank  importance addresstype     name  \\\n",
       "0  place  city          16    0.667186        city  Nairobi   \n",
       "\n",
       "                     display_name  \n",
       "0  Nairobi, Nairobi County, Kenya  "
      ]
     },
     "execution_count": 2,
     "metadata": {},
     "output_type": "execute_result"
    }
   ],
   "source": [
    "import osmnx as ox\n",
    "ox.geocode_to_gdf(\"Nairobi\")\n"
   ]
  }
 ],
 "metadata": {
  "kernelspec": {
   "display_name": "Python 3",
   "language": "python",
   "name": "python3"
  },
  "language_info": {
   "codemirror_mode": {
    "name": "ipython",
    "version": 3
   },
   "file_extension": ".py",
   "mimetype": "text/x-python",
   "name": "python",
   "nbconvert_exporter": "python",
   "pygments_lexer": "ipython3",
   "version": "3.8.10"
  }
 },
 "nbformat": 4,
 "nbformat_minor": 5
}
